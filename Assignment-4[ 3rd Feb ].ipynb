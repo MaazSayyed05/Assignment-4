{
 "cells": [
  {
   "cell_type": "code",
   "execution_count": 38,
   "id": "3cd333f2-0e84-4b42-9c16-9eca031958a4",
   "metadata": {},
   "outputs": [],
   "source": [
    "# Q1\n",
    "def odd_num_list():\n",
    "    l1=[]\n",
    "    for i in range(1,26):\n",
    "        if i%2!=0:\n",
    "            l1.append(i)\n",
    "    return l1\n",
    "            \n",
    "            "
   ]
  },
  {
   "cell_type": "code",
   "execution_count": 39,
   "id": "228bddd5-9a3e-4fb8-96b1-e9b3a1701e55",
   "metadata": {},
   "outputs": [
    {
     "data": {
      "text/plain": [
       "[1, 3, 5, 7, 9, 11, 13, 15, 17, 19, 21, 23, 25]"
      ]
     },
     "execution_count": 39,
     "metadata": {},
     "output_type": "execute_result"
    }
   ],
   "source": [
    "# Q1\n",
    "# def keyword is used to create a function\n",
    "odd_num_list()"
   ]
  },
  {
   "cell_type": "code",
   "execution_count": 40,
   "id": "e7aa359e-fd6d-4c9c-9b4f-a91b15b957e2",
   "metadata": {},
   "outputs": [
    {
     "data": {
      "text/plain": [
       "(1, 2.345, ['Maaz', 'Sayyed', True], (12, 13, 16))"
      ]
     },
     "execution_count": 40,
     "metadata": {},
     "output_type": "execute_result"
    }
   ],
   "source": [
    "# Q2\n",
    "# It is used to take n number of imputs of any datatype from user and \n",
    "# also it can return all input data at once as a tuple.\n",
    "def f_args(*args):\n",
    "    return args\n",
    "\n",
    "a=f_args(1,2.345,[\"Maaz\",\"Sayyed\",True],(12,13,16))\n",
    "# type(a)\n",
    "a\n",
    "# l1=list(f_args(1,2.345,[\"maaz\",\"sayyed\",True],(12,13,16)))\n",
    "# l1\n"
   ]
  },
  {
   "cell_type": "code",
   "execution_count": 41,
   "id": "34b859df-cf6a-4c38-951f-68b7075a708f",
   "metadata": {},
   "outputs": [
    {
     "data": {
      "text/plain": [
       "{'k1': 'Maaz',\n",
       " 'k2': 200,\n",
       " 'k3': True,\n",
       " 'k4': [1, 2, 3.34],\n",
       " 'k5': (1, 2, False),\n",
       " 'k6': {12, 13.45}}"
      ]
     },
     "execution_count": 41,
     "metadata": {},
     "output_type": "execute_result"
    }
   ],
   "source": [
    "# Q2\n",
    "# It is used to return a dictionary of n items, which take input as  key = value pair  form user\n",
    "def f_kwargs(**kwargs):\n",
    "    return kwargs\n",
    "\n",
    "f_kwargs(k1=\"Maaz\",k2=200,k3=True,k4=[1,2,3.34],\n",
    "       k5=(1,2,False),k6={12,13.45})\n",
    "# dict1=f_kwargs(k1=\"Maaz\",k2=200,k3=True,k4=[1,2,3.34], k5=(1,2,False),k6={12,13.45})\n",
    "# dict1.items()"
   ]
  },
  {
   "cell_type": "code",
   "execution_count": 42,
   "id": "018b01ec-3392-4e53-8046-631d92192d77",
   "metadata": {},
   "outputs": [],
   "source": [
    "# Q3\n",
    "# iterator--> Iterator in Python is an object that is used to iterate over\n",
    "# iterable objects like lists, tuples, dicts, and sets.\n",
    "\n",
    "# iter() function is used to initialize a iterator object\n",
    "# next() method is used for iteration\n",
    "# \n"
   ]
  },
  {
   "cell_type": "code",
   "execution_count": 43,
   "id": "6f652047-d110-486e-904b-1bf14ef4faf9",
   "metadata": {},
   "outputs": [],
   "source": [
    "# Q3\n",
    "def print_list(f_l1):\n",
    "    for i in range(5):\n",
    "        yield f_l1[i]\n",
    "        "
   ]
  },
  {
   "cell_type": "code",
   "execution_count": 44,
   "id": "9c99ba4c-ec4a-4a76-97fd-459d49e118b7",
   "metadata": {},
   "outputs": [
    {
     "name": "stdout",
     "output_type": "stream",
     "text": [
      "2 4 6 8 10 "
     ]
    }
   ],
   "source": [
    "# Q3\n",
    "l5=[i for i in range(2,21,2)]\n",
    "l6=print_list(l5)\n",
    "for i in l6:\n",
    "    print(i,end=\" \")\n",
    "\n"
   ]
  },
  {
   "cell_type": "code",
   "execution_count": 45,
   "id": "3e0830e1-e210-4765-8539-8dfad1e57503",
   "metadata": {},
   "outputs": [],
   "source": [
    "# Q4\n",
    "# Generator Function--> a generator is a function that returns an iterator that produces a sequence of values when iterated over. \n",
    "# Generators are useful when we want to produce a large sequence of values, \n",
    "# but we don't want to store all of them in memory at once\n",
    "\n",
    "# yield keywoerd is used to return the output of generator function in a sequence\n",
    "\n"
   ]
  },
  {
   "cell_type": "code",
   "execution_count": 46,
   "id": "3d40278c-df8c-4212-803c-f7840dd6008d",
   "metadata": {},
   "outputs": [],
   "source": [
    "# Q4\n",
    "def even_num():\n",
    "    for i in range(1,26):\n",
    "        if i%2==0:\n",
    "            yield i\n",
    "    "
   ]
  },
  {
   "cell_type": "code",
   "execution_count": 47,
   "id": "108bb4b0-a95a-4ea6-8f4c-ccd896baa6aa",
   "metadata": {},
   "outputs": [
    {
     "name": "stdout",
     "output_type": "stream",
     "text": [
      "2 4 6 8 10 12 14 16 18 20 22 24 "
     ]
    }
   ],
   "source": [
    "# Q4\n",
    "# E.g: To print even numbers one by one from 1 to 25\n",
    "for i in even_num():\n",
    "    print(i,end=\" \")\n"
   ]
  },
  {
   "cell_type": "code",
   "execution_count": 48,
   "id": "519d1e93-0b56-4f82-b26e-9e30b0a449b6",
   "metadata": {},
   "outputs": [],
   "source": [
    "# Q5\n",
    "def prime_num():\n",
    "    i=1\n",
    "    while i<=1000:\n",
    "        if (i %2 !=0 and i % 3!=0 and i % 5!=0 and i % 7!=0) or (i == 2 or i == 3 or i == 5 or i == 7):\n",
    "            yield i\n",
    "            i=i+1\n",
    "        else:\n",
    "            i=i+1\n",
    "    \n",
    "            "
   ]
  },
  {
   "cell_type": "code",
   "execution_count": 49,
   "id": "08865ad5-fc59-414e-b60c-4cdfcb7537ee",
   "metadata": {},
   "outputs": [
    {
     "name": "stdout",
     "output_type": "stream",
     "text": [
      "1 2 3 5 7 11 13 17 19 23 29 31 37 41 43 47 53 59 61 67 "
     ]
    }
   ],
   "source": [
    "# Q5\n",
    "prime=prime_num()\n",
    "for i in range(20):\n",
    "    print(next(prime),end=\" \")\n",
    "\n",
    "    \n"
   ]
  },
  {
   "cell_type": "code",
   "execution_count": 50,
   "id": "1e03b426-f83d-4bd2-bac1-232ec5b24424",
   "metadata": {},
   "outputs": [
    {
     "name": "stdout",
     "output_type": "stream",
     "text": [
      "0 1 1 2 3 5 8 13 21 34 "
     ]
    }
   ],
   "source": [
    "# Q6\n",
    "a,b=0,1\n",
    "i=0\n",
    "while i<10:\n",
    "    print(a,end=\" \")\n",
    "    a,b=b,a+b\n",
    "    i=i+1\n",
    "\n",
    "\n"
   ]
  },
  {
   "cell_type": "code",
   "execution_count": 51,
   "id": "e37622e9-0a13-4eca-8f3a-bd0ed22c7ff1",
   "metadata": {},
   "outputs": [
    {
     "data": {
      "text/plain": [
       "['p', 'w', 's', 'k', 'i', 'l', 'l', 's']"
      ]
     },
     "execution_count": 51,
     "metadata": {},
     "output_type": "execute_result"
    }
   ],
   "source": [
    "# Q7\n",
    "str1=\"pwskills\"\n",
    "[i for i in str1]\n",
    "\n",
    "\n"
   ]
  },
  {
   "cell_type": "code",
   "execution_count": 54,
   "id": "d189eb1f-b22e-4a8b-906c-ac655c04218d",
   "metadata": {},
   "outputs": [
    {
     "name": "stdin",
     "output_type": "stream",
     "text": [
      "Enter number:  1234\n"
     ]
    },
    {
     "name": "stdout",
     "output_type": "stream",
     "text": [
      "It is Not a Palindrome Number.\n"
     ]
    }
   ],
   "source": [
    "# Q8\n",
    "num=input(\"Enter number: \")\n",
    "i=len(num)-1\n",
    "while i>=0:\n",
    "    if num[i]==num[len(num)-1-i]:\n",
    "        i=i-1\n",
    "    \n",
    "    else:\n",
    "        print(\"It is Not a Palindrome Number.\")\n",
    "        break\n",
    "else:\n",
    "    print(\"It is a Palindrome Number.\")\n"
   ]
  },
  {
   "cell_type": "code",
   "execution_count": 55,
   "id": "e99c14c7-9639-41f3-9304-7a214de17be2",
   "metadata": {},
   "outputs": [
    {
     "name": "stdout",
     "output_type": "stream",
     "text": [
      "[1, 3, 5, 7, 9, 11, 13, 15, 17, 19, 21, 23, 25, 27, 29, 31, 33, 35, 37, 39, 41, 43, 45, 47, 49, 51, 53, 55, 57, 59, 61, 63, 65, 67, 69, 71, 73, 75, 77, 79, 81, 83, 85, 87, 89, 91, 93, 95, 97, 99] "
     ]
    }
   ],
   "source": [
    "# Q9\n",
    "l1=[i for i in range(1,101)]\n",
    "l1\n",
    "\n",
    "print([i for i in l1 if i%2!=0],end=\" \")\n",
    "\n",
    "\n",
    "\n"
   ]
  },
  {
   "cell_type": "code",
   "execution_count": null,
   "id": "8a10d1ff-80e8-454c-bf1d-1f4e3facec69",
   "metadata": {},
   "outputs": [],
   "source": []
  }
 ],
 "metadata": {
  "kernelspec": {
   "display_name": "Python 3 (ipykernel)",
   "language": "python",
   "name": "python3"
  },
  "language_info": {
   "codemirror_mode": {
    "name": "ipython",
    "version": 3
   },
   "file_extension": ".py",
   "mimetype": "text/x-python",
   "name": "python",
   "nbconvert_exporter": "python",
   "pygments_lexer": "ipython3",
   "version": "3.10.8"
  }
 },
 "nbformat": 4,
 "nbformat_minor": 5
}
